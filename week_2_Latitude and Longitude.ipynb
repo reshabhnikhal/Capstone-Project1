{
    "nbformat_minor": 1, 
    "cells": [
        {
            "source": "### Importing required libraries", 
            "cell_type": "markdown", 
            "metadata": {}
        }, 
        {
            "execution_count": 1, 
            "cell_type": "code", 
            "metadata": {}, 
            "outputs": [], 
            "source": "# Download beautifulsoup4 library for webscraping, if not installed\n# !conda install beautifulsoup4\n\nfrom bs4 import BeautifulSoup\nimport requests\nimport pandas as pd\nimport csv "
        }, 
        {
            "source": "### Setting `maxcolwidth` to `800` for good viewability", 
            "cell_type": "markdown", 
            "metadata": {}
        }, 
        {
            "execution_count": 2, 
            "cell_type": "code", 
            "metadata": {}, 
            "outputs": [], 
            "source": "pd.set_option('max_colwidth', 800) "
        }, 
        {
            "source": "### Getting the source webpage and assigining the variable `source` to it and iniatilizing the `beautifulsoup` object to `soup`\n", 
            "cell_type": "markdown", 
            "metadata": {}
        }, 
        {
            "execution_count": 3, 
            "cell_type": "code", 
            "metadata": {}, 
            "outputs": [], 
            "source": "source = requests.get('https://en.wikipedia.org/wiki/List_of_postal_codes_of_Canada:_M').text \nsoup = BeautifulSoup(source, 'lxml') "
        }, 
        {
            "source": "### Initializing the `csv_writer` object and writing the name of the columns on it as the first row", 
            "cell_type": "markdown", 
            "metadata": {}
        }, 
        {
            "execution_count": 4, 
            "cell_type": "code", 
            "metadata": {}, 
            "outputs": [
                {
                    "execution_count": 4, 
                    "metadata": {}, 
                    "data": {
                        "text/plain": "32"
                    }, 
                    "output_type": "execute_result"
                }
            ], 
            "source": "csv_file = open('toronto_postal_codes.csv', 'w')\ncsv_writer = csv.writer(csv_file)\ncsv_writer.writerow(['Postcode', 'Borough', 'Neighbourhood'])"
        }, 
        {
            "source": "### Scraping the page to extract the data table", 
            "cell_type": "markdown", 
            "metadata": {}
        }, 
        {
            "execution_count": 5, 
            "cell_type": "code", 
            "metadata": {}, 
            "outputs": [], 
            "source": "table = soup.find('table', class_ = 'wikitable sortable') # Gets the table from the webpage\nrows = table.find_all('tr') # Gets the table rows\n\npostcodes = [] # Initializes the raw postcodes list\nboroughs = [] # Initializes the raw boroughs list\nneighbourhoods = [] # Initializes the raw neighbourhoods list\n\nfor row in rows:    \n    columns = row.find_all('td')\n    try :\n        if columns[1].text != 'Not assigned':  # To skip if the borough name is 'Not Assigned'\n            \n            postcode = columns[0].text\n            postcodes.append(postcode)\n            \n            borough = columns[1].text\n            boroughs.append(borough)\n            \n            neighbourhood = columns[2].text.split('\\n')[0] # Removing the newline character at the end     \n            \n            if neighbourhood == 'Not assigned': # Assigning the same name to neighbourhood if it is 'Not Assigned'\n                neighbourhood = borough            \n                \n            neighbourhoods.append(neighbourhood)\n             \n    except Exception as e : # To skip the first row which contains column names\n        pass \n    \npostcode_explored = [] # Initializing the list of explored postcodes\nfor index_i, postcode_i in enumerate(postcodes) :   \n    if postcode_i not in postcode_explored :\n        nbds = neighbourhoods[index_i]\n        for index_f, postcode_f in enumerate(postcodes) :\n            if postcode_i == postcode_f and index_i != index_f:\n                nbds = nbds + ', ' + neighbourhoods[index_f] # Concatenating the neighbourhood names\n        csv_writer.writerow([postcode_i, boroughs[index_i], nbds]) # Writing the rows in the csv file\n        postcode_explored.append(postcode_i)"
        }, 
        {
            "source": "### Closing the csv file\n", 
            "cell_type": "markdown", 
            "metadata": {}
        }, 
        {
            "execution_count": 6, 
            "cell_type": "code", 
            "metadata": {}, 
            "outputs": [], 
            "source": "csv_file.close()"
        }, 
        {
            "source": "### Creating the pandas dataframe", 
            "cell_type": "markdown", 
            "metadata": {}
        }, 
        {
            "execution_count": 7, 
            "cell_type": "code", 
            "metadata": {}, 
            "outputs": [], 
            "source": "df = pd.read_csv('toronto_postal_codes.csv')"
        }, 
        {
            "source": "### Getting the `shape` of the dataframe", 
            "cell_type": "markdown", 
            "metadata": {}
        }, 
        {
            "execution_count": 8, 
            "cell_type": "code", 
            "metadata": {}, 
            "outputs": [
                {
                    "execution_count": 8, 
                    "metadata": {}, 
                    "data": {
                        "text/plain": "(103, 3)"
                    }, 
                    "output_type": "execute_result"
                }
            ], 
            "source": "df.shape"
        }, 
        {
            "execution_count": 9, 
            "cell_type": "code", 
            "metadata": {}, 
            "outputs": [
                {
                    "execution_count": 9, 
                    "metadata": {}, 
                    "data": {
                        "text/html": "<div>\n<style scoped>\n    .dataframe tbody tr th:only-of-type {\n        vertical-align: middle;\n    }\n\n    .dataframe tbody tr th {\n        vertical-align: top;\n    }\n\n    .dataframe thead th {\n        text-align: right;\n    }\n</style>\n<table border=\"1\" class=\"dataframe\">\n  <thead>\n    <tr style=\"text-align: right;\">\n      <th></th>\n      <th>Postcode</th>\n      <th>Borough</th>\n      <th>Neighbourhood</th>\n    </tr>\n  </thead>\n  <tbody>\n    <tr>\n      <th>0</th>\n      <td>M3A</td>\n      <td>North York</td>\n      <td>Parkwoods</td>\n    </tr>\n    <tr>\n      <th>1</th>\n      <td>M4A</td>\n      <td>North York</td>\n      <td>Victoria Village</td>\n    </tr>\n    <tr>\n      <th>2</th>\n      <td>M5A</td>\n      <td>Downtown Toronto</td>\n      <td>Harbourfront, Regent Park</td>\n    </tr>\n    <tr>\n      <th>3</th>\n      <td>M6A</td>\n      <td>North York</td>\n      <td>Lawrence Heights, Lawrence Manor</td>\n    </tr>\n    <tr>\n      <th>4</th>\n      <td>M7A</td>\n      <td>Queen's Park</td>\n      <td>Queen's Park</td>\n    </tr>\n  </tbody>\n</table>\n</div>", 
                        "text/plain": "  Postcode           Borough                     Neighbourhood\n0      M3A        North York                         Parkwoods\n1      M4A        North York                  Victoria Village\n2      M5A  Downtown Toronto         Harbourfront, Regent Park\n3      M6A        North York  Lawrence Heights, Lawrence Manor\n4      M7A      Queen's Park                      Queen's Park"
                    }, 
                    "output_type": "execute_result"
                }
            ], 
            "source": "df.head()"
        }, 
        {
            "source": "### Getting the list of postal codes", 
            "cell_type": "markdown", 
            "metadata": {}
        }, 
        {
            "execution_count": 10, 
            "cell_type": "code", 
            "metadata": {}, 
            "outputs": [], 
            "source": "postal_codes = df['Postcode'].values"
        }, 
        {
            "source": "### OpenCage GeoCoder API credentials", 
            "cell_type": "markdown", 
            "metadata": {}
        }, 
        {
            "execution_count": 11, 
            "cell_type": "code", 
            "metadata": {}, 
            "outputs": [], 
            "source": "# The code was removed by Watson Studio for sharing."
        }, 
        {
            "source": "### Using the OpenCage GeoCoder API ", 
            "cell_type": "markdown", 
            "metadata": {}
        }, 
        {
            "execution_count": 12, 
            "cell_type": "code", 
            "metadata": {}, 
            "outputs": [], 
            "source": "import json\n\nlatitudes = [] # Initializing the latitude array\nlongitudes = [] # Initializing the longitude array\n\nfor postal_code in postal_codes : \n    place_name = postal_code + \" Toronto\" # Formats the place name\n    url = 'https://api.opencagedata.com/geocode/v1/json?q={}&key={}'.format(place_name, API_KEY) # Gets the proper url to make the API call\n    obj = json.loads(requests.get(url).text) # Loads the JSON file in the form of a python dictionary\n    \n    results = obj['results'] # Extracts the results information out of the JSON file\n    lat = results[0]['geometry']['lat'] # Extracts the latitude value\n    lng = results[0]['geometry']['lng'] # Extracts the longitude value\n    \n    latitudes.append(lat) # Appending to the list of latitudes\n    longitudes.append(lng) # Appending to the list of longitudes "
        }, 
        {
            "source": "### Adding the latitude and longitude values to the dataframe", 
            "cell_type": "markdown", 
            "metadata": {}
        }, 
        {
            "execution_count": 13, 
            "cell_type": "code", 
            "metadata": {}, 
            "outputs": [], 
            "source": "df['Latitude'] = latitudes\ndf['Longitude'] = longitudes"
        }, 
        {
            "execution_count": 14, 
            "cell_type": "code", 
            "metadata": {}, 
            "outputs": [
                {
                    "execution_count": 14, 
                    "metadata": {}, 
                    "data": {
                        "text/html": "<div>\n<style scoped>\n    .dataframe tbody tr th:only-of-type {\n        vertical-align: middle;\n    }\n\n    .dataframe tbody tr th {\n        vertical-align: top;\n    }\n\n    .dataframe thead th {\n        text-align: right;\n    }\n</style>\n<table border=\"1\" class=\"dataframe\">\n  <thead>\n    <tr style=\"text-align: right;\">\n      <th></th>\n      <th>Postcode</th>\n      <th>Borough</th>\n      <th>Neighbourhood</th>\n      <th>Latitude</th>\n      <th>Longitude</th>\n    </tr>\n  </thead>\n  <tbody>\n    <tr>\n      <th>0</th>\n      <td>M3A</td>\n      <td>North York</td>\n      <td>Parkwoods</td>\n      <td>43.754500</td>\n      <td>-79.330000</td>\n    </tr>\n    <tr>\n      <th>1</th>\n      <td>M4A</td>\n      <td>North York</td>\n      <td>Victoria Village</td>\n      <td>43.727600</td>\n      <td>-79.314800</td>\n    </tr>\n    <tr>\n      <th>2</th>\n      <td>M5A</td>\n      <td>Downtown Toronto</td>\n      <td>Harbourfront, Regent Park</td>\n      <td>43.655500</td>\n      <td>-79.362600</td>\n    </tr>\n    <tr>\n      <th>3</th>\n      <td>M6A</td>\n      <td>North York</td>\n      <td>Lawrence Heights, Lawrence Manor</td>\n      <td>43.722300</td>\n      <td>-79.450400</td>\n    </tr>\n    <tr>\n      <th>4</th>\n      <td>M7A</td>\n      <td>Queen's Park</td>\n      <td>Queen's Park</td>\n      <td>-33.013441</td>\n      <td>151.594204</td>\n    </tr>\n  </tbody>\n</table>\n</div>", 
                        "text/plain": "  Postcode           Borough                     Neighbourhood   Latitude  \\\n0      M3A        North York                         Parkwoods  43.754500   \n1      M4A        North York                  Victoria Village  43.727600   \n2      M5A  Downtown Toronto         Harbourfront, Regent Park  43.655500   \n3      M6A        North York  Lawrence Heights, Lawrence Manor  43.722300   \n4      M7A      Queen's Park                      Queen's Park -33.013441   \n\n    Longitude  \n0  -79.330000  \n1  -79.314800  \n2  -79.362600  \n3  -79.450400  \n4  151.594204  "
                    }, 
                    "output_type": "execute_result"
                }
            ], 
            "source": "df.head()"
        }
    ], 
    "metadata": {
        "kernelspec": {
            "display_name": "Python 3.5", 
            "name": "python3", 
            "language": "python"
        }, 
        "language_info": {
            "mimetype": "text/x-python", 
            "nbconvert_exporter": "python", 
            "version": "3.5.5", 
            "name": "python", 
            "file_extension": ".py", 
            "pygments_lexer": "ipython3", 
            "codemirror_mode": {
                "version": 3, 
                "name": "ipython"
            }
        }
    }, 
    "nbformat": 4
}